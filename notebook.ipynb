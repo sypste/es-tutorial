{
 "cells": [
  {
   "cell_type": "markdown",
   "metadata": {},
   "source": [
    "# Welcome to the party, pal"
   ]
  },
  {
   "cell_type": "code",
   "execution_count": null,
   "metadata": {},
   "outputs": [],
   "source": [
    "import csv, json\n",
    "import pandas as pd\n",
    "\n",
    "from elasticsearch import Elasticsearch # https://elasticsearch-py.readthedocs.io/en/v8.1.1/\n",
    "from elasticsearch.helpers import bulk"
   ]
  },
  {
   "cell_type": "code",
   "execution_count": null,
   "metadata": {},
   "outputs": [],
   "source": [
    "# fill in cloud id and user details\n",
    "client = Elasticsearch(\n",
    "    cloud_id=\"My_deployment:ZXVyb3BlLW5vcnRoMS5nY3AuZWxhc3RpYy1jbG91ZC5jb20kYmRlOTEwODNiNGJiNGM1NGJlMjE3NmUyZDYwODI0NTMkOTY2MGVlYmQ4NzJmNGUxOWFkYjZmNGJlNGVmYTVjNjc=\",\n",
    "    basic_auth=(\"elastic\", \"xeygCBUwpiekHhkwynMDInr4\"),\n",
    ")\n",
    "# sanity check\n",
    "health = client.cluster.health()\n",
    "print(health)\n",
    "assert health['status'] == \"green\""
   ]
  },
  {
   "cell_type": "markdown",
   "metadata": {},
   "source": [
    "## Let's ingest some data"
   ]
  },
  {
   "cell_type": "code",
   "execution_count": null,
   "metadata": {},
   "outputs": [],
   "source": [
    "movie_file = 'movie_metadata.csv'\n",
    "\n",
    "df = pd.read_csv(movie_file, header=0, sep=',', skipinitialspace = True, )\n",
    "\n",
    "# mild wrangling\n",
    "df.dropna(how='all', inplace=True)\n",
    "df_obj = df.select_dtypes(['object'])\n",
    "df[df_obj.columns] = df_obj.apply(lambda x: x.str.strip())\n",
    "split_cols = ['genres', 'plot_keywords']\n",
    "for col in split_cols:\n",
    "    df[col] = df[col].fillna('').transform(lambda s: s.split('|'))\n",
    "\n",
    "\n",
    "def gen_data(index, data):\n",
    "    for d in data:\n",
    "        yield {\n",
    "            '_index': index,\n",
    "            '_source': d\n",
    "        }\n",
    "\n",
    "index = 'my_movies'\n",
    "data = json.loads(df.to_json(orient='records', date_format=None, date_unit='s', force_ascii=False))\n",
    "\n",
    "bulk(client, gen_data(index, data), max_retries=10, )"
   ]
  },
  {
   "cell_type": "markdown",
   "metadata": {},
   "source": [
    "## ... and find it"
   ]
  },
  {
   "cell_type": "code",
   "execution_count": null,
   "metadata": {},
   "outputs": [],
   "source": [
    "# some movie named avatar\n",
    "client.search(index=index, query={\n",
    "        'match': {\n",
    "            'movie_title': 'Avatar'\n",
    "        }\n",
    "    }\n",
    ")"
   ]
  },
  {
   "cell_type": "code",
   "execution_count": null,
   "metadata": {},
   "outputs": [],
   "source": [
    "client.search(index=index, size=0, aggs={\n",
    "    \"movie-languages\": {\n",
    "      \"terms\": {\n",
    "        \"field\": \"language.keyword\",\n",
    "        \"size\": 10\n",
    "      }\n",
    "    }\n",
    "  }\n",
    ")"
   ]
  }
 ],
 "metadata": {
  "interpreter": {
   "hash": "8b8334dab9339717f727a1deaf837b322d7a41c20d15cc86be99a8e69ceec8ce"
  },
  "kernelspec": {
   "display_name": "Python 3.8.12 64-bit ('3.8.12')",
   "language": "python",
   "name": "python3"
  },
  "language_info": {
   "codemirror_mode": {
    "name": "ipython",
    "version": 3
   },
   "file_extension": ".py",
   "mimetype": "text/x-python",
   "name": "python",
   "nbconvert_exporter": "python",
   "pygments_lexer": "ipython3",
   "version": "3.8.12"
  },
  "orig_nbformat": 4
 },
 "nbformat": 4,
 "nbformat_minor": 2
}
